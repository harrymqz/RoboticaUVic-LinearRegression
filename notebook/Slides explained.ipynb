{
 "cells": [
  {
   "cell_type": "markdown",
   "metadata": {},
   "source": [
    "# Question section\n",
    "\n",
    "Hi teacher!\n",
    "Taking a look in the slides I remember I had a question, I am not pretty sure what is the difference between supervised and unsupervised learning...\n",
    "Maybe...\n",
    "\n",
    "**Supervised learning**: It's based in find out the relationship between in variables and out variables. These algorithms are trained, and we tell them which is the result we want, depending from an input value, once we have shown them a lot of examples it will be able to predict or tell us which is the output result.\n",
    "\n",
    "**Unsupervised learning**: It's a paradigm which produces knowledgement just from the input data without show any kind of result we want. These kind of algorithms try to group the input data and it's called \"Clustering\". The input has less cost to get, we don't need as many examples as in the supervised learning (about 100,000 examples)\n",
    "\n",
    "## Let's talk about the slides!\n",
    "\n",
    "<img src=\"img/01-linear-regression-goal.png\" style=\"border: 1px solid black; width: 600px\">\n",
    "<img src=\"img/02-linear-regression-x-y-theta.png\" style=\"border: 1px solid black; width: 600px\">\n",
    "<img src=\"img/03-linear-regression-theta.png\" style=\"border: 1px solid black; width: 300px\">\n",
    "\n",
    "I have a question here... in the exercise below (that we're doing), which things are what?\n",
    "- The last column is \"y\"?\n",
    "- The matrix of features is all the data including the the last column or not?\n",
    "- I imagine that \"theta\" is the model we are going to predict, right?\n",
    "\n",
    "<img src=\"img/04-linear-regression-mse.png\" style=\"border: 1px solid black; width: 600px\">\n",
    "\n",
    "What is real and categorical values?\n",
    "- Real -> Numbers?\n",
    "- Categorical -> Numbers to represent a label like **wood, aluminium...**?\n",
    "\n",
    "<img src=\"img/05-linear-regression-mse-interpretation.png\" style=\"border: 1px solid black; width: 600px\">\n",
    "<img src=\"img/06-linear-regression-overfitting.png\" style=\"border: 1px solid black; width: 600px\">\n",
    "\n",
    "Is \"overfitting\" == \"overtrained\"? I mean too much adjusted to that example\n",
    "\n",
    "<img src=\"img/07-linear-regression-bias-variance.png\" style=\"border: 1px solid black; width: 600px\">\n",
    "\n",
    "Could you tell some example of irreducible and reducible error, I cannot imagine \n",
    "\n",
    "<img src=\"img/08-linear-regression-regularization.png\" style=\"border: 1px solid black; width: 600px\">\n",
    "<img src=\"img/09-linear-regression-regularization-ii.png\" style=\"border: 1px solid black; width: 600px\">"
   ]
  }
 ],
 "metadata": {
  "kernelspec": {
   "display_name": "Python 3",
   "language": "python",
   "name": "python3"
  },
  "language_info": {
   "codemirror_mode": {
    "name": "ipython",
    "version": 3
   },
   "file_extension": ".py",
   "mimetype": "text/x-python",
   "name": "python",
   "nbconvert_exporter": "python",
   "pygments_lexer": "ipython3",
   "version": "3.6.7"
  }
 },
 "nbformat": 4,
 "nbformat_minor": 2
}
