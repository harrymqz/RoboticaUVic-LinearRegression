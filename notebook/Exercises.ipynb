{
 "cells": [
  {
   "cell_type": "markdown",
   "metadata": {},
   "source": [
    "# Pattern Recognition: Linear Regression Exercises"
   ]
  },
  {
   "cell_type": "code",
   "execution_count": 1,
   "metadata": {},
   "outputs": [
    {
     "name": "stdout",
     "output_type": "stream",
     "text": [
      "These are the header titles\n",
      "    1. CRIM      per capita crime rate by town\r\n",
      "    2. ZN        proportion of residential land zoned for lots over \r\n",
      "                 25,000 sq.ft.\r\n",
      "    3. INDUS     proportion of non-retail business acres per town\r\n",
      "    4. CHAS      Charles River dummy variable (= 1 if tract bounds \r\n",
      "                 river; 0 otherwise)\r\n",
      "    5. NOX       nitric oxides concentration (parts per 10 million)\r\n",
      "    6. RM        average number of rooms per dwelling\r\n",
      "    7. AGE       proportion of owner-occupied units built prior to 1940\r\n",
      "    8. DIS       weighted distances to five Boston employment centres\r\n",
      "    9. RAD       index of accessibility to radial highways\r\n",
      "    10. TAX      full-value property-tax rate per $10,000\r\n",
      "    11. PTRATIO  pupil-teacher ratio by town\r\n",
      "    12. B        1000(Bk - 0.63)^2 where Bk is the proportion of blacks \r\n",
      "                 by town\r\n",
      "    13. LSTAT    % lower status of the population\r\n",
      "    14. MEDV     Median value of owner-occupied homes in $1000's\r\n"
     ]
    }
   ],
   "source": [
    "print('These are the header titles')\n",
    "!head -n 47 ../data_housing.names|tail -n 17"
   ]
  },
  {
   "cell_type": "markdown",
   "metadata": {},
   "source": [
    "> Q1) Get the Housing Data Set form the repository [Names, Data] (it is different from the one used in the notebook!).\n",
    "\n",
    "> Q2) Load the data (using numpy.loadtxt) and separate the last column (target value, MEDV). Compute the average of the target value and the MSE obtained using it as a constant prediction."
   ]
  },
  {
   "cell_type": "code",
   "execution_count": 2,
   "metadata": {},
   "outputs": [
    {
     "name": "stdout",
     "output_type": "stream",
     "text": [
      "QUESTION 1:\n",
      "- Data got and loaded\n",
      "- Last column separated, Median value of owner-occupied homes in $1000's (MEDV)\n",
      "- Avg of MEDV\n",
      "- MSE of MEDV\n",
      "\n",
      "QUESTION 1:\n",
      "-------------------\n",
      "Number of target values: 506\n",
      "Avg: 22.532806324110677\n",
      "Minimum Squared Error (MSE): 84.41955615616563\n"
     ]
    }
   ],
   "source": [
    "# Import the needed library\n",
    "import numpy as np\n",
    "\n",
    "# Get the data\n",
    "data = np.loadtxt('../housing.data')\n",
    "\n",
    "# Get the real data\n",
    "real_data = np.array([d[:-1] for d in data])\n",
    "\n",
    "# Get the last column values\n",
    "target_value = np.array([d[-1] for d in data])\n",
    "\n",
    "# Average of this values\n",
    "target_value_avg = np.average(target_value)\n",
    "\n",
    "# Array length of target_value\n",
    "target_value_length = len(target_value)\n",
    "\n",
    "# First define some handy shortcuts \n",
    "dot = np.dot\n",
    "inv = np.linalg.inv\n",
    "\n",
    "# Dummy features\n",
    "X = np.ones((target_value_length, 1))\n",
    "\n",
    "# theta = ((X.T * X)^-1) * X.T * y\n",
    "theta = dot(dot(inv(dot(X.T, X)), X.T), target_value)\n",
    "\n",
    "# MSE = (1/N)*sum((y-X*theta)^2)\n",
    "mse = sum((target_value-dot(X, theta))**2) / target_value_length\n",
    "\n",
    "print ('QUESTION 1:')\n",
    "print ('- Data got and loaded')\n",
    "print ('- Last column separated, Median value of owner-occupied homes in $1000\\'s (MEDV)')\n",
    "print ('- Avg of MEDV')\n",
    "print ('- MSE of MEDV')\n",
    "print ('')\n",
    "print ('QUESTION 1:')\n",
    "print ('-------------------')\n",
    "print ('Number of target values:', target_value_length)\n",
    "print ('Avg:', target_value_avg)\n",
    "print ('Minimum Squared Error (MSE):', mse)"
   ]
  },
  {
   "cell_type": "markdown",
   "metadata": {},
   "source": [
    "> Q3) Split the data in two parts (50%-50%) for training and testing (first half for training, second half for testing). Train a linear regressor model for each variable individually (plus a bias term) and compute the MSE on the training and the testing set. Which variable is the most informative? which one makes the model generalize better? and worse? Compute the coefficient of determination (R^2) for the test set."
   ]
  },
  {
   "cell_type": "code",
   "execution_count": 3,
   "metadata": {},
   "outputs": [
    {
     "name": "stdout",
     "output_type": "stream",
     "text": [
      "Training data\n",
      "\n",
      "[[6.3200e-03 1.8000e+01 2.3100e+00 ... 1.5300e+01 3.9690e+02 4.9800e+00]\n",
      " [2.7310e-02 0.0000e+00 7.0700e+00 ... 1.7800e+01 3.9690e+02 9.1400e+00]\n",
      " [2.7290e-02 0.0000e+00 7.0700e+00 ... 1.7800e+01 3.9283e+02 4.0300e+00]\n",
      " ...\n",
      " [2.1409e-01 2.2000e+01 5.8600e+00 ... 1.9100e+01 3.7707e+02 3.5900e+00]\n",
      " [8.2210e-02 2.2000e+01 5.8600e+00 ... 1.9100e+01 3.8609e+02 3.5300e+00]\n",
      " [3.6894e-01 2.2000e+01 5.8600e+00 ... 1.9100e+01 3.9690e+02 3.5400e+00]]\n",
      "\n",
      "Testing data\n",
      "\n",
      "[[4.8190e-02 8.0000e+01 3.6400e+00 ... 1.6400e+01 3.9289e+02 6.5700e+00]\n",
      " [3.5480e-02 8.0000e+01 3.6400e+00 ... 1.6400e+01 3.9518e+02 9.2500e+00]\n",
      " [1.5380e-02 9.0000e+01 3.7500e+00 ... 1.5900e+01 3.8634e+02 3.1100e+00]\n",
      " ...\n",
      " [6.0760e-02 0.0000e+00 1.1930e+01 ... 2.1000e+01 3.9690e+02 5.6400e+00]\n",
      " [1.0959e-01 0.0000e+00 1.1930e+01 ... 2.1000e+01 3.9345e+02 6.4800e+00]\n",
      " [4.7410e-02 0.0000e+00 1.1930e+01 ... 2.1000e+01 3.9690e+02 7.8800e+00]]\n"
     ]
    }
   ],
   "source": [
    "training_data  = []\n",
    "testing_data = []\n",
    "real_data_length = len(real_data)\n",
    "half_real_data_length = real_data_length/2\n",
    "\n",
    "for idx, d in enumerate(real_data):\n",
    "    if idx <= half_real_data_length:\n",
    "        training_data.append(d)\n",
    "    else:\n",
    "        testing_data.append(d)\n",
    "\n",
    "training_data = np.array(training_data)\n",
    "testing_data = np.array(testing_data)\n",
    "\n",
    "print('Training data\\n')\n",
    "print(training_data)\n",
    "\n",
    "print('\\nTesting data\\n')\n",
    "print(testing_data)"
   ]
  },
  {
   "cell_type": "markdown",
   "metadata": {},
   "source": [
    "<br /><br /><br /><br /><hr />\n",
    "# So far, are the exercises fine?\n",
    "<hr /><br /><br /><br /><br />"
   ]
  },
  {
   "cell_type": "code",
   "execution_count": null,
   "metadata": {},
   "outputs": [],
   "source": [
    "# Let's add a continuous variable, like the area of the house\n",
    "X = np.hstack((X, data[:,2].reshape(target_value_length,1)))\n",
    "print (X.shape)"
   ]
  },
  {
   "cell_type": "code",
   "execution_count": null,
   "metadata": {},
   "outputs": [],
   "source": [
    "from scipy.linalg import lstsq\n",
    "theta = lstsq(X, target_value)[0]\n",
    "print (sum((target_value-dot(X, theta))**2) / target_value_length)"
   ]
  },
  {
   "cell_type": "code",
   "execution_count": null,
   "metadata": {},
   "outputs": [],
   "source": [
    "# Let's add the number of garages as anoher variable\n",
    "X = np.hstack((X, data[:,4].reshape(target_value_length,1)))\n",
    "theta = lstsq(X, target_value)[0]\n",
    "print (sum((target_value-dot(X, theta))**2) / target_value_length)"
   ]
  },
  {
   "cell_type": "code",
   "execution_count": null,
   "metadata": {},
   "outputs": [],
   "source": [
    "#To add a categorical variable, like \"construction type\" we have to decide how to represent it. Two options: \n",
    "# 1) Giving a value to every category choice (1, 2, 3, ...).\n",
    "# 2) Using an indicator vector, with a zero for each dimension, except for the active that is one.\n",
    "X1 = np.hstack((X, data[:,8].reshape(target_value_length, 1)))\n",
    "ind = np.zeros((target_value_length, max(data[:,8]).astype(int)))\n",
    "ind[range(0, target_value_length), (data[:,8]-1).astype(int)]=1\n",
    "X2 = np.hstack((X, ind))\n",
    "print ('Representation 1,2,3,4,...', '\\n', X1)\n",
    "print ('Representation [0,1,0,0]', '\\n', X2)"
   ]
  },
  {
   "cell_type": "code",
   "execution_count": null,
   "metadata": {},
   "outputs": [],
   "source": [
    "theta = lstsq(X1, target_value)[0]\n",
    "print ('Representation 1,2,3,...', sum((target_value-dot(X1, theta))**2) / target_value_length)\n",
    "theta = lstsq(X2, target_value)[0]\n",
    "print ('Representation [0,1,0,0]', sum((target_value-dot(X2, theta))**2) / target_value_length)\n",
    "# Just one word of caution with indicator vectors: if we use more dimensions \n",
    "# than we should, we may end up with a low-rank matrix that we can't invert!"
   ]
  },
  {
   "cell_type": "code",
   "execution_count": null,
   "metadata": {},
   "outputs": [],
   "source": [
    "R = np.random.random((target_value_length, 30))\n",
    "theta = lstsq(R, target_value)[0]\n",
    "print ('Random', sum((target_value-dot(R, theta))**2) / target_value_length)"
   ]
  },
  {
   "cell_type": "code",
   "execution_count": null,
   "metadata": {
    "scrolled": false
   },
   "outputs": [],
   "source": [
    "n = int(target_value_length / 2)\n",
    "R = np.random.random((n, 500))\n",
    "theta = lstsq(R, target_value[:n])[0]\n",
    "print ('Random', sum((target_value[n:]-dot(R, theta))**2) / n)"
   ]
  }
 ],
 "metadata": {
  "kernelspec": {
   "display_name": "Python 3",
   "language": "python",
   "name": "python3"
  },
  "language_info": {
   "codemirror_mode": {
    "name": "ipython",
    "version": 3
   },
   "file_extension": ".py",
   "mimetype": "text/x-python",
   "name": "python",
   "nbconvert_exporter": "python",
   "pygments_lexer": "ipython3",
   "version": "3.6.7"
  }
 },
 "nbformat": 4,
 "nbformat_minor": 2
}
